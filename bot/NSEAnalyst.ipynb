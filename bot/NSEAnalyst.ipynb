{
 "cells": [
  {
   "cell_type": "code",
   "execution_count": 1,
   "metadata": {},
   "outputs": [
    {
     "data": {
      "text/html": [
       "\n",
       "        <script>\n",
       "            function code_toggle_15542504483038987529() {\n",
       "                $('div.cell.code_cell.rendered.selected').find('div.input').toggle();\n",
       "            }\n",
       "\n",
       "            \n",
       "        </script>\n",
       "\n",
       "        <a href=\"javascript:code_toggle_15542504483038987529()\">Toggle show/hide</a>\n",
       "    "
      ],
      "text/plain": [
       "<IPython.core.display.HTML object>"
      ]
     },
     "execution_count": 1,
     "metadata": {},
     "output_type": "execute_result"
    }
   ],
   "source": [
    "from IPython.display import display, HTML\n",
    "from IPython.display import HTML\n",
    "import random\n",
    "\n",
    "def hide_toggle(for_next=False):\n",
    "    this_cell = \"\"\"$('div.cell.code_cell.rendered.selected')\"\"\"\n",
    "    next_cell = this_cell + '.next()'\n",
    "\n",
    "    toggle_text = 'Toggle show/hide'  # text shown on toggle link\n",
    "    target_cell = this_cell  # target cell to control with toggle\n",
    "    js_hide_current = ''  # bit of JS to permanently hide code in current cell (only when toggling next cell)\n",
    "\n",
    "    if for_next:\n",
    "        target_cell = next_cell\n",
    "        toggle_text += ' next cell'\n",
    "        js_hide_current = this_cell + '.find(\"div.input\").hide();'\n",
    "\n",
    "    js_f_name = 'code_toggle_{}'.format(str(random.randint(1,2**64)))\n",
    "\n",
    "    html = \"\"\"\n",
    "        <script>\n",
    "            function {f_name}() {{\n",
    "                {cell_selector}.find('div.input').toggle();\n",
    "            }}\n",
    "\n",
    "            {js_hide_current}\n",
    "        </script>\n",
    "\n",
    "        <a href=\"javascript:{f_name}()\">{toggle_text}</a>\n",
    "    \"\"\".format(\n",
    "        f_name=js_f_name,\n",
    "        cell_selector=target_cell,\n",
    "        js_hide_current=js_hide_current, \n",
    "        toggle_text=toggle_text\n",
    "    )\n",
    "\n",
    "    return HTML(html)\n",
    "\n",
    "hide_toggle()"
   ]
  },
  {
   "cell_type": "code",
   "execution_count": 2,
   "metadata": {},
   "outputs": [],
   "source": [
    "import requests\n",
    "import pandas as pd\n",
    "import datetime\n",
    "import matplotlib.pyplot as plt\n",
    "from io import StringIO\n",
    "pd.set_option('display.max_rows', 5000)\n"
   ]
  },
  {
   "cell_type": "code",
   "execution_count": 3,
   "metadata": {},
   "outputs": [],
   "source": [
    "date=''\n",
    "if(datetime.datetime.now().hour>16 and date==''):\n",
    "    date = datetime.datetime.now()\n",
    "else:\n",
    "    date = (datetime.datetime.now()-datetime.timedelta(1))\n",
    "\n",
    "#Excluding Saturday and sunday and taking friday as current date\n",
    "if(date.weekday()>4):\n",
    "    date = (datetime.datetime.now()-datetime.timedelta(1)).strftime('%d%m%Y') if date.weekday()==5 else (datetime.datetime.now()-datetime.timedelta(2)).strftime('%d%m%Y')\n",
    "else:\n",
    "    date = date.strftime('%d%m%Y')\n",
    "    "
   ]
  },
  {
   "cell_type": "code",
   "execution_count": 4,
   "metadata": {},
   "outputs": [
    {
     "data": {
      "text/html": [
       "\n",
       "        <script>\n",
       "            function code_toggle_10918668364943489772() {\n",
       "                $('div.cell.code_cell.rendered.selected').find('div.input').toggle();\n",
       "            }\n",
       "\n",
       "            \n",
       "        </script>\n",
       "\n",
       "        <a href=\"javascript:code_toggle_10918668364943489772()\">Toggle show/hide</a>\n",
       "    "
      ],
      "text/plain": [
       "<IPython.core.display.HTML object>"
      ]
     },
     "execution_count": 4,
     "metadata": {},
     "output_type": "execute_result"
    }
   ],
   "source": [
    "# url = {\n",
    "# 'HEALTHCARE': 'https://www1.nseindia.com/content/indices/ind_niftyhealthcarelist.csv',\n",
    "# 'AUTO': 'https://www1.nseindia.com/content/indices/ind_niftyautolist.csv',\n",
    "# 'BANK': 'https://www1.nseindia.com/content/indices/ind_niftybanklist.csv',\n",
    "# 'CONSUMER': 'https://www1.nseindia.com/content/indices/ind_niftyconsumerdurableslist.csv',\n",
    "# 'FINANACE': 'https://www1.nseindia.com/content/indices/ind_niftyfinancelist.csv',\n",
    "# 'FINANCE25_50': 'https://www1.nseindia.com/content/indices/ind_niftyfinancialservices25_50list.csv',\n",
    "# 'FMCG': 'https://www1.nseindia.com/content/indices/ind_niftyfmcglist.csv',\n",
    "# 'IT': 'https://www1.nseindia.com/content/indices/ind_niftyitlist.csv',\n",
    "# 'MEDIA': 'https://www1.nseindia.com/content/indices/ind_niftymedialist.csv',\n",
    "# 'METAL': 'https://www1.nseindia.com/content/indices/ind_niftymetallist.csv',\n",
    "# 'OILANDGAS': 'https://www1.nseindia.com/content/indices/ind_niftyoilgaslist.csv',\n",
    "# 'PHARMA': 'https://www1.nseindia.com/content/indices/ind_niftypharmalist.csv',\n",
    "# 'PRIVATEBANK': 'https://www1.nseindia.com/content/indices/ind_nifty_privatebanklist.csv',\n",
    "# 'PSUBANK': 'https://www1.nseindia.com/content/indices/ind_niftypsubanklist.csv',\n",
    "# 'REALTY': 'https://www1.nseindia.com/content/indices/ind_niftyrealtylist.csv',\n",
    "# 'SMEEMRGE': 'https://www1.nseindia.com/content/indices/ind_niftysmelist.csv',\n",
    "# 'COMMODITIES': 'https://www1.nseindia.com/content/indices/ind_niftycommoditieslist.csv',\n",
    "# 'CPSE': 'https://www1.nseindia.com/content/indices/ind_niftycpselist.csv',\n",
    "# 'ENERGY': 'https://www1.nseindia.com/content/indices/ind_niftyenergylist.csv',\n",
    "# 'CONSUMPTION': 'https://www1.nseindia.com/content/indices/ind_niftyconsumptionlist.csv',\n",
    "# 'INFRA': 'https://www1.nseindia.com/content/indices/ind_niftyinfralist.csv',\n",
    "# 'MNC': 'https://www1.nseindia.com/content/indices/ind_niftymnclist.csv',\n",
    "# 'PSE': 'https://www1.nseindia.com/content/indices/ind_niftypselist.csv',\n",
    "# 'LIQUID15': 'https://www1.nseindia.com/content/indices/ind_niftyservicelist.csv',\n",
    "# 'TATAGROUP': 'https://www.niftyindices.com/IndexConstituent/ind_nifty_tatalist.csv',\n",
    "# 'MAHINDRAGROUP': 'https://www.niftyindices.com/IndexConstituent/ind_nifty_mahindralist.csv',\n",
    "# 'BIRLAGROUP': 'https://www.niftyindices.com/IndexConstituent/ind_nifty_adityabirlalist.csv',\n",
    "# 'BHAVCOPY': f'https://archives.nseindia.com/products/content/sec_bhavdata_full_date.csv',\n",
    "# 'INDICES': f'https://archives.nseindia.com/content/indices/ind_close_all_date.csv',\n",
    "# }\n",
    "\n",
    "url = {\n",
    "'nifty 50': 'https://www.niftyindices.com/indexconstituent/ind_nifty50list.csv',\n",
    "'nifty next 50': 'https://www.niftyindices.com/indexconstituent/ind_niftynext50list.csv',\n",
    "'nifty auto': 'https://www.niftyindices.com/indexconstituent/ind_niftyautolist.csv',\n",
    "'nifty bank': 'https://www.niftyindices.com/IndexConstituent/ind_niftybanklist.csv',\n",
    "'nifty financial services': 'https://www.niftyindices.com/IndexConstituent/ind_niftyfinancelist.csv',\n",
    "'nifty fmcg': 'https://www.niftyindices.com/IndexConstituent/ind_niftyfmcglist.csv',\n",
    "'nifty it': 'https://www.niftyindices.com/IndexConstituent/ind_niftyitlist.csv',\n",
    "'nifty media': 'https://www.niftyindices.com/IndexConstituent/ind_niftymedialist.csv',\n",
    "'nifty metal': 'https://www.niftyindices.com/IndexConstituent/ind_niftymetallist.csv',\n",
    "'nifty pharma': 'https://www.niftyindices.com/IndexConstituent/ind_niftypharmalist.csv',\n",
    "'nifty private bank': 'https://www.niftyindices.com/IndexConstituent/ind_nifty_privatebanklist.csv',\n",
    "'nifty psu bank': 'https://www.niftyindices.com/IndexConstituent/ind_niftypsubanklist.csv',\n",
    "'nifty realty': 'https://www.niftyindices.com/IndexConstituent/ind_niftyrealtylist.csv',\n",
    "'nifty commodities': 'https://www.niftyindices.com/IndexConstituent/ind_niftycommoditieslist.csv',\n",
    "'nifty cpse': 'https://www.niftyindices.com/IndexConstituent/ind_niftycpselist.csv',\n",
    "'nifty energy': 'https://www.niftyindices.com/IndexConstituent/ind_niftyenergylist.csv',\n",
    "'nifty india consumption': 'https://www.niftyindices.com/IndexConstituent/ind_niftyconsumptionlist.csv',\n",
    "'nifty infrastructure': 'https://www.niftyindices.com/IndexConstituent/ind_niftyinfralist.csv',\n",
    "'nifty mnc': 'https://www.niftyindices.com/IndexConstituent/ind_niftymnclist.csv',\n",
    "'nifty pse': 'https://www.niftyindices.com/IndexConstituent/ind_niftypselist.csv',\n",
    "'nifty services sector': 'https://www.niftyindices.com/IndexConstituent/ind_niftyservicelist.csv',\n",
    "'nifty sme emerge': 'https://www.niftyindices.com/IndexConstituent/ind_niftysmelist.csv',\n",
    "'nifty oil and gas': 'https://www.niftyindices.com/IndexConstituent/ind_niftyoilgaslist.csv',\n",
    "'nifty consumer durables': 'https://www.niftyindices.com/IndexConstituent/ind_niftyconsumerdurableslist.csv',\n",
    "'nifty tata group': 'https://www.niftyindices.com/indexconstituent/ind_nifty_tatalist.csv',\n",
    "'nifty mahindra group': 'https://www.niftyindices.com/indexconstituent/ind_nifty_mahindralist.csv',\n",
    "'nifty aditya birla group': 'https://www.niftyindices.com/indexconstituent/ind_nifty_adityabirlalist.csv',\n",
    "'bhavcopy': f'https://archives.nseindia.com/products/content/sec_bhavdata_full_date.csv',\n",
    "'indices': f'https://archives.nseindia.com/content/indices/ind_close_all_date.csv',\n",
    "}\n",
    "hide_toggle()"
   ]
  },
  {
   "cell_type": "code",
   "execution_count": 6,
   "metadata": {},
   "outputs": [],
   "source": [
    "bhavCopy = pd.read_csv(url['BHAVCOPY'].replace('date',date))"
   ]
  },
  {
   "cell_type": "code",
   "execution_count": null,
   "metadata": {},
   "outputs": [],
   "source": [
    "display(HTML(bhavCopy.to_html()))"
   ]
  },
  {
   "cell_type": "code",
   "execution_count": 7,
   "metadata": {},
   "outputs": [],
   "source": [
    "bhavCopy['percentageChange'] = ((bhavCopy[' CLOSE_PRICE']-bhavCopy[' OPEN_PRICE'])/bhavCopy[' OPEN_PRICE'])*100\n",
    "#bhavCopy['percentageChange'] = ((bhavCopy[' CLOSE_PRICE']-bhavCopy[' OPEN_PRICE'])/bhavCopy[' OPEN_PRICE'])*100"
   ]
  },
  {
   "cell_type": "code",
   "execution_count": 8,
   "metadata": {},
   "outputs": [],
   "source": [
    "sample=bhavCopy.head(10)"
   ]
  },
  {
   "cell_type": "code",
   "execution_count": 9,
   "metadata": {},
   "outputs": [
    {
     "data": {
      "text/plain": [
       "<AxesSubplot:ylabel='SYMBOL'>"
      ]
     },
     "execution_count": 9,
     "metadata": {},
     "output_type": "execute_result"
    },
    {
     "data": {
      "image/png": "[encoded data removed]",
      "text/plain": [
       "<Figure size 432x288 with 1 Axes>"
      ]
     },
     "metadata": {
      "needs_background": "light"
     },
     "output_type": "display_data"
    }
   ],
   "source": [
    "sample = sample.sort_values(by=['percentageChange'])\n",
    "sample.plot.barh(x='SYMBOL', y='percentageChange', color=(sample['percentageChange'] > 0).map({True: 'g',\n",
    "                                                    False: 'r'}), sort_columns=True)"
   ]
  },
  {
   "cell_type": "code",
   "execution_count": 10,
   "metadata": {},
   "outputs": [],
   "source": [
    "import seaborn as sns"
   ]
  },
  {
   "cell_type": "code",
   "execution_count": 11,
   "metadata": {},
   "outputs": [
    {
     "data": {
      "text/plain": [
       "<AxesSubplot:xlabel='percentageChange', ylabel='SYMBOL'>"
      ]
     },
     "execution_count": 11,
     "metadata": {},
     "output_type": "execute_result"
    },
    {
     "data": {
      "image/png": "[encoded data removed]",
      "text/plain": [
       "<Figure size 432x288 with 1 Axes>"
      ]
     },
     "metadata": {
      "needs_background": "light"
     },
     "output_type": "display_data"
    }
   ],
   "source": [
    "sns.barplot(y='SYMBOL', x='percentageChange', data=sample, palette=[\"lightblue\", \"lightpink\"])"
   ]
  },
  {
   "cell_type": "code",
   "execution_count": 12,
   "metadata": {},
   "outputs": [
    {
     "ename": "ValueError",
     "evalue": "Could not interpret input 'percentType'",
     "output_type": "error",
     "traceback": [
      "\u001b[1;31m---------------------------------------------------------------------------\u001b[0m",
      "\u001b[1;31mValueError\u001b[0m                                Traceback (most recent call last)",
      "\u001b[1;32m<ipython-input-12-bd4c70a9c8a2>\u001b[0m in \u001b[0;36m<module>\u001b[1;34m\u001b[0m\n\u001b[1;32m----> 1\u001b[1;33m \u001b[0msns\u001b[0m\u001b[1;33m.\u001b[0m\u001b[0mcatplot\u001b[0m\u001b[1;33m(\u001b[0m\u001b[0my\u001b[0m\u001b[1;33m=\u001b[0m\u001b[1;34m'SYMBOL'\u001b[0m\u001b[1;33m,\u001b[0m \u001b[0mx\u001b[0m\u001b[1;33m=\u001b[0m\u001b[1;34m'percentageChange'\u001b[0m\u001b[1;33m,\u001b[0m \u001b[0mdata\u001b[0m\u001b[1;33m=\u001b[0m\u001b[0msample\u001b[0m\u001b[1;33m,\u001b[0m \u001b[0mhue\u001b[0m\u001b[1;33m=\u001b[0m\u001b[1;34m'percentType'\u001b[0m\u001b[1;33m,\u001b[0m \u001b[0mkind\u001b[0m \u001b[1;33m=\u001b[0m \u001b[1;34m'bar'\u001b[0m\u001b[1;33m,\u001b[0m\u001b[0mpalette\u001b[0m\u001b[1;33m=\u001b[0m\u001b[1;33m[\u001b[0m\u001b[1;34m\"red\"\u001b[0m\u001b[1;33m,\u001b[0m \u001b[1;34m\"green\"\u001b[0m\u001b[1;33m]\u001b[0m\u001b[1;33m)\u001b[0m\u001b[1;33m\u001b[0m\u001b[1;33m\u001b[0m\u001b[0m\n\u001b[0m",
      "\u001b[1;32m~\\Anaconda3\\lib\\site-packages\\seaborn\\categorical.py\u001b[0m in \u001b[0;36mcatplot\u001b[1;34m(x, y, hue, data, row, col, col_wrap, estimator, ci, n_boot, units, seed, order, hue_order, row_order, col_order, kind, height, aspect, orient, color, palette, legend, legend_out, sharex, sharey, margin_titles, facet_kws, **kwargs)\u001b[0m\n\u001b[0;32m   3721\u001b[0m     \u001b[1;31m# facets to ensure representation of all data in the final plot\u001b[0m\u001b[1;33m\u001b[0m\u001b[1;33m\u001b[0m\u001b[1;33m\u001b[0m\u001b[0m\n\u001b[0;32m   3722\u001b[0m     \u001b[0mp\u001b[0m \u001b[1;33m=\u001b[0m \u001b[0m_CategoricalPlotter\u001b[0m\u001b[1;33m(\u001b[0m\u001b[1;33m)\u001b[0m\u001b[1;33m\u001b[0m\u001b[1;33m\u001b[0m\u001b[0m\n\u001b[1;32m-> 3723\u001b[1;33m     \u001b[0mp\u001b[0m\u001b[1;33m.\u001b[0m\u001b[0mestablish_variables\u001b[0m\u001b[1;33m(\u001b[0m\u001b[0mx_\u001b[0m\u001b[1;33m,\u001b[0m \u001b[0my_\u001b[0m\u001b[1;33m,\u001b[0m \u001b[0mhue\u001b[0m\u001b[1;33m,\u001b[0m \u001b[0mdata\u001b[0m\u001b[1;33m,\u001b[0m \u001b[0morient\u001b[0m\u001b[1;33m,\u001b[0m \u001b[0morder\u001b[0m\u001b[1;33m,\u001b[0m \u001b[0mhue_order\u001b[0m\u001b[1;33m)\u001b[0m\u001b[1;33m\u001b[0m\u001b[1;33m\u001b[0m\u001b[0m\n\u001b[0m\u001b[0;32m   3724\u001b[0m     \u001b[0morder\u001b[0m \u001b[1;33m=\u001b[0m \u001b[0mp\u001b[0m\u001b[1;33m.\u001b[0m\u001b[0mgroup_names\u001b[0m\u001b[1;33m\u001b[0m\u001b[1;33m\u001b[0m\u001b[0m\n\u001b[0;32m   3725\u001b[0m     \u001b[0mhue_order\u001b[0m \u001b[1;33m=\u001b[0m \u001b[0mp\u001b[0m\u001b[1;33m.\u001b[0m\u001b[0mhue_names\u001b[0m\u001b[1;33m\u001b[0m\u001b[1;33m\u001b[0m\u001b[0m\n",
      "\u001b[1;32m~\\Anaconda3\\lib\\site-packages\\seaborn\\categorical.py\u001b[0m in \u001b[0;36mestablish_variables\u001b[1;34m(self, x, y, hue, data, orient, order, hue_order, units)\u001b[0m\n\u001b[0;32m    150\u001b[0m                 \u001b[1;32mif\u001b[0m \u001b[0misinstance\u001b[0m\u001b[1;33m(\u001b[0m\u001b[0mvar\u001b[0m\u001b[1;33m,\u001b[0m \u001b[0mstr\u001b[0m\u001b[1;33m)\u001b[0m\u001b[1;33m:\u001b[0m\u001b[1;33m\u001b[0m\u001b[1;33m\u001b[0m\u001b[0m\n\u001b[0;32m    151\u001b[0m                     \u001b[0merr\u001b[0m \u001b[1;33m=\u001b[0m \u001b[1;34m\"Could not interpret input '{}'\"\u001b[0m\u001b[1;33m.\u001b[0m\u001b[0mformat\u001b[0m\u001b[1;33m(\u001b[0m\u001b[0mvar\u001b[0m\u001b[1;33m)\u001b[0m\u001b[1;33m\u001b[0m\u001b[1;33m\u001b[0m\u001b[0m\n\u001b[1;32m--> 152\u001b[1;33m                     \u001b[1;32mraise\u001b[0m \u001b[0mValueError\u001b[0m\u001b[1;33m(\u001b[0m\u001b[0merr\u001b[0m\u001b[1;33m)\u001b[0m\u001b[1;33m\u001b[0m\u001b[1;33m\u001b[0m\u001b[0m\n\u001b[0m\u001b[0;32m    153\u001b[0m \u001b[1;33m\u001b[0m\u001b[0m\n\u001b[0;32m    154\u001b[0m             \u001b[1;31m# Figure out the plotting orientation\u001b[0m\u001b[1;33m\u001b[0m\u001b[1;33m\u001b[0m\u001b[1;33m\u001b[0m\u001b[0m\n",
      "\u001b[1;31mValueError\u001b[0m: Could not interpret input 'percentType'"
     ]
    }
   ],
   "source": [
    "sns.catplot(y='SYMBOL', x='percentageChange', data=sample, hue='percentType', kind = 'bar',palette=[\"red\", \"green\"])"
   ]
  },
  {
   "cell_type": "code",
   "execution_count": null,
   "metadata": {},
   "outputs": [],
   "source": [
    "sample['percentType'] = 'Positive' if sample['percentageChange']>=0 else 'Negative'"
   ]
  },
  {
   "cell_type": "code",
   "execution_count": null,
   "metadata": {},
   "outputs": [],
   "source": [
    "sample"
   ]
  },
  {
   "cell_type": "code",
   "execution_count": 13,
   "metadata": {},
   "outputs": [],
   "source": [
    "m = pd.read_csv(url['METAL'])\n",
    "m.columns = m.columns.str.replace(' ', '')\n",
    "bhavCopy.columns = bhavCopy.columns.str.replace(' ', '')"
   ]
  },
  {
   "cell_type": "code",
   "execution_count": 14,
   "metadata": {},
   "outputs": [],
   "source": [
    "metal = m.merge(bhavCopy,left_on='Symbol', right_on='SYMBOL', how='inner')"
   ]
  },
  {
   "cell_type": "code",
   "execution_count": 15,
   "metadata": {},
   "outputs": [],
   "source": [
    "metal = metal.sort_values(by=['percentageChange'], ascending=False)\n",
    "metal.loc[metal['percentageChange']>=0, 'Change'] = 'Positive'\n",
    "metal.loc[metal['percentageChange']<0, 'Change'] = 'Negative'"
   ]
  },
  {
   "cell_type": "code",
   "execution_count": 16,
   "metadata": {},
   "outputs": [
    {
     "data": {
      "image/png": "[encoded data removed]",
      "text/plain": [
       "<Figure size 1080x360 with 1 Axes>"
      ]
     },
     "metadata": {
      "needs_background": "light"
     },
     "output_type": "display_data"
    }
   ],
   "source": [
    "g = sns.catplot(y='CompanyName', x='percentageChange', data=metal, hue='Change', kind = 'bar',palette=[\"green\", \"red\"], dodge=False)\n",
    "g.fig.set_size_inches(15, 5)\n",
    "g.fig.subplots_adjust(top=0.81, right=0.86)\n",
    "ax = g.facet_axis(0, 0)\n",
    "for c in ax.containers:\n",
    "    labels = [f'{(v.get_width()):.1f}%' for v in c]\n",
    "    ax.bar_label(c, labels=labels, label_type='edge')\n"
   ]
  },
  {
   "cell_type": "code",
   "execution_count": 17,
   "metadata": {},
   "outputs": [
    {
     "data": {
      "image/png": "[encoded data removed]",
      "text/plain": [
       "<Figure size 432x288 with 1 Axes>"
      ]
     },
     "metadata": {
      "needs_background": "light"
     },
     "output_type": "display_data"
    }
   ],
   "source": [
    "metal = metal.sort_values(by=['percentageChange'], ascending=True)\n",
    "\n",
    "ax = metal.plot.barh(x='CompanyName', y='percentageChange', color=(metal['percentageChange'] >= 0).map({True: 'g',\n",
    "                                                    False: 'r'}),legend=False)\n",
    "\n",
    "for p in ax.patches:\n",
    "    ax.annotate(\"%.2f\" % p.get_width(), (p.get_x() + p.get_width(), p.get_y()), xytext=(5, 10), textcoords='offset points')"
   ]
  },
  {
   "cell_type": "code",
   "execution_count": null,
   "metadata": {},
   "outputs": [],
   "source": [
    "#Best Performing stock\n",
    "bhavCopy = pd.read_csv(url['BHAVCOPY'])\n",
    "bhavCopy.columns = bhavCopy.columns.str.replace(' ', '')\n",
    "bhavCopy['%Change'] = ((bhavCopy['CLOSE_PRICE']-bhavCopy['PREV_CLOSE'])/bhavCopy['PREV_CLOSE'])*100\n",
    "bhavCopy.loc[bhavCopy['%Change']>=0, 'Change'] = 'Positive'\n",
    "bhavCopy.loc[bhavCopy['%Change']<0, 'Change'] = 'Negative'\n",
    "highReturnsSecurities = bhavCopy.sort_values(by='%Change', ascending=False)[:10]\n",
    "highVolume = bhavCopy.sort_values(by='TTL_TRD_QNTY', ascending=False)[:10]\n",
    "bestPerformingSecurities = bhavCopy.loc[(bhavCopy['%Change']>3)].sort_values(by='TTL_TRD_QNTY', ascending=False)[:10]\n",
    "worstPerformingSecurities = bhavCopy.loc[(bhavCopy['%Change']<0)].sort_values(by='TTL_TRD_QNTY', ascending=False)[:10]\n",
    "highVolumePalette = ['tomato', 'mediumslateblue'] if highVolume['%Change'].iloc[0]<0 else ['mediumslateblue', 'tomato']"
   ]
  },
  {
   "cell_type": "code",
   "execution_count": null,
   "metadata": {},
   "outputs": [],
   "source": [
    "stocks = {'Top 10 Securities with highest returns today': highReturnsSecurities, \n",
    "          'Top 10 Best performing securities with high volume today': bestPerformingSecurities,\n",
    "          'Top 10 Worst performing securities with High volume today': worstPerformingSecurities,\n",
    "         'Top 10 sSecurities with highest traded volume': highVolume}\n",
    "\n",
    "stockPalette = {'Top 10 Securities with highest returns today': [\"mediumslateblue\"], \n",
    "          'Top 10 Best performing securities with high volume today': ['mediumslateblue'],\n",
    "          'Top 10 Worst performing securities with High volume today': ['tomato'],\n",
    "         'Top 10 Securities with highest traded volume': highVolumePalette}\n"
   ]
  },
  {
   "cell_type": "code",
   "execution_count": null,
   "metadata": {},
   "outputs": [],
   "source": [
    "sns.set_style('whitegrid')\n",
    "for n,i in stocks.items():\n",
    "    g = sns.catplot(y='SYMBOL', x='%Change', data=i, hue='Change', kind = 'bar',palette=stockPalette[n], dodge=False)\n",
    "    g.fig.set_size_inches(15, 5)\n",
    "    g.fig.suptitle(n,size=16,y=0.01,x=0.4)\n",
    "    g.fig.subplots_adjust(top=0.81, right=0.86)\n",
    "    ax = g.facet_axis(0, 0)\n",
    "    for c in ax.containers:\n",
    "        labels = [f'{(v.get_width()):.1f}%' for v in c]\n",
    "        ax.bar_label(c, labels=labels, label_type='edge')\n",
    "    g.savefig(f'{n}.jpg')"
   ]
  },
  {
   "cell_type": "code",
   "execution_count": null,
   "metadata": {},
   "outputs": [],
   "source": [
    "bhavCopy.sort_values(by='TTL_TRD_QNTY', ascending=False)"
   ]
  },
  {
   "cell_type": "code",
   "execution_count": null,
   "metadata": {},
   "outputs": [],
   "source": [
    "import requests"
   ]
  },
  {
   "cell_type": "code",
   "execution_count": null,
   "metadata": {},
   "outputs": [],
   "source": [
    "url = 'https://www.nseindia.com/api/equity-stockIndices?index=NIFTY%2050'\n",
    "https://www.nseindia.com/api/equity-stockIndices?index=NIFTY%20BANK\n",
    "header = {'accept-encoding':'gzip, deflate',\n",
    "         'accept-language':'en-US,en;q=0.9',\n",
    "         'cookie':'23E00F0F504F68426F85F42F38C8286C~ECPjHqiTQ7FhAr2Xiu3HABsIM3CBt6MSVswNplEqe0h12Y3lZc6oLCOqPiBhepZKdEAUKEyxBHMPqx/Lq6Qmj9ajv6iDWLzmP109jlgxZxnllGUoLTPThFcYyPmYCctjY54zYypbLmysV4fMZ/Pk3VoGlpSArbBFkZMUsIHqmbI=',\n",
    "         'user-agent':'Mozilla/5.0 (Windows NT 10.0; Win64; x64) AppleWebKit/537.36 (KHTML, like Gecko) Chrome/94.0.4606.71 Safari/537.36'}\n",
    "data = requests.get(url,headers=header)"
   ]
  },
  {
   "cell_type": "code",
   "execution_count": null,
   "metadata": {},
   "outputs": [],
   "source": [
    "import pandas as pd\n",
    "df = pd.DataFrame(data.json()['data'])\n",
    "df"
   ]
  },
  {
   "cell_type": "code",
   "execution_count": null,
   "metadata": {},
   "outputs": [],
   "source": [
    "bestPerformingSecurities"
   ]
  },
  {
   "cell_type": "code",
   "execution_count": null,
   "metadata": {},
   "outputs": [],
   "source": []
  },
  {
   "cell_type": "code",
   "execution_count": null,
   "metadata": {},
   "outputs": [],
   "source": [
    "import yfinance as yf\n",
    "\n",
    "msft = yf.Ticker(\"TCS.NS\")\n",
    "\n",
    "# get stock info\n",
    "msft.info\n",
    "\n",
    "# get historical market data\n",
    "#hist = msft.history(period=\"max\")\n",
    "\n",
    "# show actions (dividends, splits)\n",
    "#print(msft.actions)\n",
    "\n",
    "# show dividends\n",
    "#print(msft.dividends)\n",
    "\n",
    "# show splits\n",
    "#print(msft.splits)\n",
    "\n",
    "# show financials\n",
    "#print(msft.financials)\n",
    "#print(msft.quarterly_financials)\n",
    "\n",
    "# show major holders\n",
    "#print(msft.major_holders)\n",
    "\n",
    "# show institutional holders\n",
    "#print(msft.institutional_holders)\n",
    "\n",
    "# show balance sheet\n",
    "#print(msft.balance_sheet)\n",
    "#print(msft.quarterly_balance_sheet)\n",
    "\n",
    "# show cashflow\n",
    "#print(msft.cashflow)\n",
    "#print(msft.quarterly_cashflow)\n",
    "\n",
    "# show earnings\n",
    "#print(msft.earnings)\n",
    "#print(msft.quarterly_earnings)\n",
    "\n",
    "# show sustainability\n",
    "#print(msft.sustainability)\n",
    "\n",
    "# show analysts recommendations\n",
    "#print(msft.recommendations)\n",
    "\n",
    "# show next event (earnings, etc)\n",
    "#print(msft.calendar)\n",
    "\n",
    "# show ISIN code - *experimental*\n",
    "# ISIN = International Securities Identification Number\n",
    "#print(msft.isin)\n",
    "\n",
    "# show options expirations\n",
    "#print(msft.options)\n",
    "\n",
    "# show news\n",
    "#print(msft.news)\n",
    "\n",
    "# get option chain for specific expiration\n",
    "#opt = msft.option_chain('YYYY-MM-DD')\n",
    "# data available via: opt.calls, opt.puts"
   ]
  },
  {
   "cell_type": "code",
   "execution_count": 9,
   "metadata": {},
   "outputs": [],
   "source": [
    "def checkWeekend(dateCal):\n",
    "    if (dateCal.weekday()>4):\n",
    "        dateCal = (dateCal-datetime.timedelta(1)) if date.weekday()==5 else (dateCal-datetime.timedelta(2))\n",
    "    return dateCal\n",
    "\n",
    "\n",
    "currDate=''\n",
    "if(datetime.datetime.now().hour>16 and date==''):\n",
    "    date = datetime.datetime.now()\n",
    "else:\n",
    "    date = (datetime.datetime.now()-datetime.timedelta(1))\n",
    "\n",
    "\n",
    "dates = {'currDate' : checkWeekend(date).strftime('%d%m%Y'),\n",
    "'T7date' : checkWeekend(date-datetime.timedelta(7)).strftime('%d%m%Y'),\n",
    "'T30date' : checkWeekend(date-datetime.timedelta(30)).strftime('%d%m%Y'),\n",
    "'T180date' : checkWeekend(date-datetime.timedelta(180)).strftime('%d%m%Y'),\n",
    "'T365date' : checkWeekend(date-datetime.timedelta(365)).strftime('%d%m%Y'),\n",
    "'T1825date' : checkWeekend(date-datetime.timedelta(1825)).strftime('%d%m%Y'),\n",
    "'T3650date' : checkWeekend(date-datetime.timedelta(3650)).strftime('%d%m%Y')}\n"
   ]
  },
  {
   "cell_type": "code",
   "execution_count": 20,
   "metadata": {},
   "outputs": [],
   "source": [
    "def getData(code, date=''):\n",
    "    if(date!=''):\n",
    "        uri = url[code].replace('date',date)\n",
    "        headers = {\n",
    "        'User-Agent': 'Mozilla/5.0 (Windows NT 10.0; Win64; x64) AppleWebKit/537.36 (KHTML, like Gecko) Chrome/88.0.4324.190 Safari/537.36'\n",
    "        }\n",
    "        d = requests.get(uri,headers=headers)\n",
    "        if(d.status_code==200):\n",
    "            data = StringIO(d.text)\n",
    "            df = pd.read_csv(data)\n",
    "            return df\n",
    "        else:\n",
    "            date = (datetime.datetime.strptime(date, '%d%m%Y')-datetime.timedelta(1)).strftime('%d%m%Y')\n",
    "            return getData(code,date)\n",
    "    else:\n",
    "        headers = {\n",
    "        'User-Agent': 'Mozilla/5.0 (Windows NT 10.0; Win64; x64) AppleWebKit/537.36 (KHTML, like Gecko) Chrome/88.0.4324.190 Safari/537.36'\n",
    "        }\n",
    "        d = requests.get(url[code],headers=headers)\n",
    "        if(d.status_code==200):\n",
    "            data = StringIO(d.text)\n",
    "            df = pd.read_csv(data)\n",
    "        return df\n"
   ]
  },
  {
   "cell_type": "code",
   "execution_count": 10,
   "metadata": {},
   "outputs": [],
   "source": [
    "indicesToday = getData('indices','09112021')\n",
    "indicesT7 = getData('indices',dates['T365date'])"
   ]
  },
  {
   "cell_type": "code",
   "execution_count": 11,
   "metadata": {},
   "outputs": [],
   "source": [
    "indicesT7.columns = indicesT7.columns.str.replace(' ', '')\n",
    "indicesToday.columns = indicesToday.columns.str.replace(' ', '')"
   ]
  },
  {
   "cell_type": "code",
   "execution_count": 12,
   "metadata": {},
   "outputs": [
    {
     "data": {
      "text/plain": [
       "Index(['IndexName', 'IndexDate', 'OpenIndexValue', 'HighIndexValue',\n",
       "       'LowIndexValue', 'ClosingIndexValue', 'PointsChange', 'Change(%)',\n",
       "       'Volume', 'Turnover(Rs.Cr.)', 'P/E', 'P/B', 'DivYield'],\n",
       "      dtype='object')"
      ]
     },
     "execution_count": 12,
     "metadata": {},
     "output_type": "execute_result"
    }
   ],
   "source": [
    "indicesToday.columns"
   ]
  },
  {
   "cell_type": "code",
   "execution_count": 13,
   "metadata": {},
   "outputs": [],
   "source": [
    "t7d = indicesToday[['IndexName', 'IndexDate', 'ClosingIndexValue']].merge(indicesT7[['IndexName', 'IndexDate', 'ClosingIndexValue']],\n",
    "                                                                   how='inner', on='IndexName')\n",
    "t7d['%Change'] = ((t7d['ClosingIndexValue_x']-t7d['ClosingIndexValue_y'])/t7d['ClosingIndexValue_y'])*100.0"
   ]
  },
  {
   "cell_type": "code",
   "execution_count": 14,
   "metadata": {},
   "outputs": [
    {
     "data": {
      "text/plain": [
       "<seaborn.axisgrid.FacetGrid at 0x16c583ecac0>"
      ]
     },
     "execution_count": 14,
     "metadata": {},
     "output_type": "execute_result"
    },
    {
     "data": {
      "image/png": "[encoded data removed]",
      "text/plain": [
       "<Figure size 360x360 with 1 Axes>"
      ]
     },
     "metadata": {
      "needs_background": "light"
     },
     "output_type": "display_data"
    }
   ],
   "source": [
    "import seaborn as sns\n",
    "sns.catplot(y='%Change', x='IndexName', data=t7d, kind = 'bar', dodge=False)"
   ]
  },
  {
   "cell_type": "code",
   "execution_count": 15,
   "metadata": {},
   "outputs": [],
   "source": [
    "t7d['IndexName']=t7d['IndexName'].str.lower()"
   ]
  },
  {
   "cell_type": "code",
   "execution_count": 16,
   "metadata": {},
   "outputs": [],
   "source": [
    "best_sector = t7d.loc[t7d['IndexName'].isin(url.keys())].sort_values(by='%Change', ascending=False).reset_index().drop('index',axis=1).loc[0,'IndexName']\n",
    "sectorPerf = t7d.loc[t7d['IndexName'].isin(url.keys())].sort_values(by='%Change', ascending=False).reset_index().drop('index',axis=1).loc[0,'%Change']"
   ]
  },
  {
   "cell_type": "code",
   "execution_count": 21,
   "metadata": {},
   "outputs": [],
   "source": [
    "sector = getData(best_sector)"
   ]
  },
  {
   "cell_type": "code",
   "execution_count": 22,
   "metadata": {},
   "outputs": [
    {
     "data": {
      "text/html": [
       "<div>\n",
       "<style scoped>\n",
       "    .dataframe tbody tr th:only-of-type {\n",
       "        vertical-align: middle;\n",
       "    }\n",
       "\n",
       "    .dataframe tbody tr th {\n",
       "        vertical-align: top;\n",
       "    }\n",
       "\n",
       "    .dataframe thead th {\n",
       "        text-align: right;\n",
       "    }\n",
       "</style>\n",
       "<table border=\"1\" class=\"dataframe\">\n",
       "  <thead>\n",
       "    <tr style=\"text-align: right;\">\n",
       "      <th></th>\n",
       "      <th>Company Name</th>\n",
       "      <th>Industry</th>\n",
       "      <th>Symbol</th>\n",
       "      <th>Series</th>\n",
       "      <th>ISIN Code</th>\n",
       "    </tr>\n",
       "  </thead>\n",
       "  <tbody>\n",
       "    <tr>\n",
       "      <th>0</th>\n",
       "      <td>Brigade Enterprises Ltd.</td>\n",
       "      <td>CONSTRUCTION</td>\n",
       "      <td>BRIGADE</td>\n",
       "      <td>EQ</td>\n",
       "      <td>INE791I01019</td>\n",
       "    </tr>\n",
       "    <tr>\n",
       "      <th>1</th>\n",
       "      <td>DLF Ltd.</td>\n",
       "      <td>CONSTRUCTION</td>\n",
       "      <td>DLF</td>\n",
       "      <td>EQ</td>\n",
       "      <td>INE271C01023</td>\n",
       "    </tr>\n",
       "    <tr>\n",
       "      <th>2</th>\n",
       "      <td>Godrej Properties Ltd.</td>\n",
       "      <td>CONSTRUCTION</td>\n",
       "      <td>GODREJPROP</td>\n",
       "      <td>EQ</td>\n",
       "      <td>INE484J01027</td>\n",
       "    </tr>\n",
       "    <tr>\n",
       "      <th>3</th>\n",
       "      <td>Indiabulls Real Estate Ltd.</td>\n",
       "      <td>CONSTRUCTION</td>\n",
       "      <td>IBREALEST</td>\n",
       "      <td>EQ</td>\n",
       "      <td>INE069I01010</td>\n",
       "    </tr>\n",
       "    <tr>\n",
       "      <th>4</th>\n",
       "      <td>Macrotech Developers Ltd.</td>\n",
       "      <td>CONSTRUCTION</td>\n",
       "      <td>LODHA</td>\n",
       "      <td>EQ</td>\n",
       "      <td>INE670K01029</td>\n",
       "    </tr>\n",
       "    <tr>\n",
       "      <th>5</th>\n",
       "      <td>Oberoi Realty Ltd.</td>\n",
       "      <td>CONSTRUCTION</td>\n",
       "      <td>OBEROIRLTY</td>\n",
       "      <td>EQ</td>\n",
       "      <td>INE093I01010</td>\n",
       "    </tr>\n",
       "    <tr>\n",
       "      <th>6</th>\n",
       "      <td>Phoenix Mills Ltd.</td>\n",
       "      <td>CONSTRUCTION</td>\n",
       "      <td>PHOENIXLTD</td>\n",
       "      <td>EQ</td>\n",
       "      <td>INE211B01039</td>\n",
       "    </tr>\n",
       "    <tr>\n",
       "      <th>7</th>\n",
       "      <td>Prestige Estates Projects Ltd.</td>\n",
       "      <td>CONSTRUCTION</td>\n",
       "      <td>PRESTIGE</td>\n",
       "      <td>EQ</td>\n",
       "      <td>INE811K01011</td>\n",
       "    </tr>\n",
       "    <tr>\n",
       "      <th>8</th>\n",
       "      <td>Sobha Ltd.</td>\n",
       "      <td>CONSTRUCTION</td>\n",
       "      <td>SOBHA</td>\n",
       "      <td>EQ</td>\n",
       "      <td>INE671H01015</td>\n",
       "    </tr>\n",
       "    <tr>\n",
       "      <th>9</th>\n",
       "      <td>Sunteck Realty Ltd.</td>\n",
       "      <td>CONSTRUCTION</td>\n",
       "      <td>SUNTECK</td>\n",
       "      <td>EQ</td>\n",
       "      <td>INE805D01034</td>\n",
       "    </tr>\n",
       "  </tbody>\n",
       "</table>\n",
       "</div>"
      ],
      "text/plain": [
       "                     Company Name      Industry      Symbol Series  \\\n",
       "0        Brigade Enterprises Ltd.  CONSTRUCTION     BRIGADE     EQ   \n",
       "1                        DLF Ltd.  CONSTRUCTION         DLF     EQ   \n",
       "2          Godrej Properties Ltd.  CONSTRUCTION  GODREJPROP     EQ   \n",
       "3     Indiabulls Real Estate Ltd.  CONSTRUCTION   IBREALEST     EQ   \n",
       "4       Macrotech Developers Ltd.  CONSTRUCTION       LODHA     EQ   \n",
       "5              Oberoi Realty Ltd.  CONSTRUCTION  OBEROIRLTY     EQ   \n",
       "6              Phoenix Mills Ltd.  CONSTRUCTION  PHOENIXLTD     EQ   \n",
       "7  Prestige Estates Projects Ltd.  CONSTRUCTION    PRESTIGE     EQ   \n",
       "8                      Sobha Ltd.  CONSTRUCTION       SOBHA     EQ   \n",
       "9             Sunteck Realty Ltd.  CONSTRUCTION     SUNTECK     EQ   \n",
       "\n",
       "      ISIN Code  \n",
       "0  INE791I01019  \n",
       "1  INE271C01023  \n",
       "2  INE484J01027  \n",
       "3  INE069I01010  \n",
       "4  INE670K01029  \n",
       "5  INE093I01010  \n",
       "6  INE211B01039  \n",
       "7  INE811K01011  \n",
       "8  INE671H01015  \n",
       "9  INE805D01034  "
      ]
     },
     "execution_count": 22,
     "metadata": {},
     "output_type": "execute_result"
    }
   ],
   "source": [
    "sector"
   ]
  },
  {
   "cell_type": "code",
   "execution_count": 24,
   "metadata": {},
   "outputs": [],
   "source": [
    "bcToday = getData('bhavcopy','09112021')\n",
    "bcT7 = getData('bhavcopy',dates['T365date'])"
   ]
  },
  {
   "cell_type": "code",
   "execution_count": null,
   "metadata": {},
   "outputs": [],
   "source": []
  },
  {
   "cell_type": "code",
   "execution_count": null,
   "metadata": {},
   "outputs": [],
   "source": []
  },
  {
   "cell_type": "code",
   "execution_count": 27,
   "metadata": {},
   "outputs": [],
   "source": [
    "bcToday.columns = bcToday.columns.str.replace(' ', '')\n",
    "bcT7.columns = bcT7.columns.str.replace(' ', '')"
   ]
  },
  {
   "cell_type": "code",
   "execution_count": 28,
   "metadata": {},
   "outputs": [
    {
     "data": {
      "text/plain": [
       "Index(['SYMBOL', 'SERIES', 'DATE1', 'PREV_CLOSE', 'OPEN_PRICE', 'HIGH_PRICE',\n",
       "       'LOW_PRICE', 'LAST_PRICE', 'CLOSE_PRICE', 'AVG_PRICE', 'TTL_TRD_QNTY',\n",
       "       'TURNOVER_LACS', 'NO_OF_TRADES', 'DELIV_QTY', 'DELIV_PER'],\n",
       "      dtype='object')"
      ]
     },
     "execution_count": 28,
     "metadata": {},
     "output_type": "execute_result"
    }
   ],
   "source": [
    "bcToday.columns"
   ]
  },
  {
   "cell_type": "code",
   "execution_count": 36,
   "metadata": {},
   "outputs": [],
   "source": [
    "sectorperf = bcToday[['SYMBOL','DATE1','CLOSE_PRICE']].\\\n",
    "merge(bcT7[['SYMBOL','DATE1','CLOSE_PRICE']], how='inner', on='SYMBOL').\\\n",
    "merge(sector[['Symbol']], how='inner', left_on='SYMBOL', right_on='Symbol')\n",
    "\n",
    "sectorperf['%Change'] = ((sectorperf['CLOSE_PRICE_x']-sectorperf['CLOSE_PRICE_y'])/sectorperf['CLOSE_PRICE_y'])*100.0"
   ]
  },
  {
   "cell_type": "code",
   "execution_count": 38,
   "metadata": {},
   "outputs": [
    {
     "data": {
      "text/html": [
       "<div>\n",
       "<style scoped>\n",
       "    .dataframe tbody tr th:only-of-type {\n",
       "        vertical-align: middle;\n",
       "    }\n",
       "\n",
       "    .dataframe tbody tr th {\n",
       "        vertical-align: top;\n",
       "    }\n",
       "\n",
       "    .dataframe thead th {\n",
       "        text-align: right;\n",
       "    }\n",
       "</style>\n",
       "<table border=\"1\" class=\"dataframe\">\n",
       "  <thead>\n",
       "    <tr style=\"text-align: right;\">\n",
       "      <th></th>\n",
       "      <th>SYMBOL</th>\n",
       "      <th>DATE1_x</th>\n",
       "      <th>CLOSE_PRICE_x</th>\n",
       "      <th>DATE1_y</th>\n",
       "      <th>CLOSE_PRICE_y</th>\n",
       "      <th>Symbol</th>\n",
       "      <th>%Change</th>\n",
       "    </tr>\n",
       "  </thead>\n",
       "  <tbody>\n",
       "    <tr>\n",
       "      <th>3</th>\n",
       "      <td>IBREALEST</td>\n",
       "      <td>09-Nov-2021</td>\n",
       "      <td>191.05</td>\n",
       "      <td>10-Nov-2020</td>\n",
       "      <td>48.35</td>\n",
       "      <td>IBREALEST</td>\n",
       "      <td>295.139607</td>\n",
       "    </tr>\n",
       "    <tr>\n",
       "      <th>7</th>\n",
       "      <td>SOBHA</td>\n",
       "      <td>09-Nov-2021</td>\n",
       "      <td>907.05</td>\n",
       "      <td>10-Nov-2020</td>\n",
       "      <td>293.05</td>\n",
       "      <td>SOBHA</td>\n",
       "      <td>209.520560</td>\n",
       "    </tr>\n",
       "    <tr>\n",
       "      <th>2</th>\n",
       "      <td>GODREJPROP</td>\n",
       "      <td>09-Nov-2021</td>\n",
       "      <td>2420.95</td>\n",
       "      <td>10-Nov-2020</td>\n",
       "      <td>957.30</td>\n",
       "      <td>GODREJPROP</td>\n",
       "      <td>152.893555</td>\n",
       "    </tr>\n",
       "    <tr>\n",
       "      <th>0</th>\n",
       "      <td>BRIGADE</td>\n",
       "      <td>09-Nov-2021</td>\n",
       "      <td>494.10</td>\n",
       "      <td>10-Nov-2020</td>\n",
       "      <td>202.15</td>\n",
       "      <td>BRIGADE</td>\n",
       "      <td>144.422459</td>\n",
       "    </tr>\n",
       "    <tr>\n",
       "      <th>1</th>\n",
       "      <td>DLF</td>\n",
       "      <td>09-Nov-2021</td>\n",
       "      <td>437.40</td>\n",
       "      <td>10-Nov-2020</td>\n",
       "      <td>180.50</td>\n",
       "      <td>DLF</td>\n",
       "      <td>142.326870</td>\n",
       "    </tr>\n",
       "    <tr>\n",
       "      <th>4</th>\n",
       "      <td>OBEROIRLTY</td>\n",
       "      <td>09-Nov-2021</td>\n",
       "      <td>1014.05</td>\n",
       "      <td>10-Nov-2020</td>\n",
       "      <td>433.60</td>\n",
       "      <td>OBEROIRLTY</td>\n",
       "      <td>133.867620</td>\n",
       "    </tr>\n",
       "    <tr>\n",
       "      <th>6</th>\n",
       "      <td>PRESTIGE</td>\n",
       "      <td>09-Nov-2021</td>\n",
       "      <td>514.85</td>\n",
       "      <td>10-Nov-2020</td>\n",
       "      <td>257.00</td>\n",
       "      <td>PRESTIGE</td>\n",
       "      <td>100.330739</td>\n",
       "    </tr>\n",
       "    <tr>\n",
       "      <th>8</th>\n",
       "      <td>SUNTECK</td>\n",
       "      <td>09-Nov-2021</td>\n",
       "      <td>488.50</td>\n",
       "      <td>10-Nov-2020</td>\n",
       "      <td>265.95</td>\n",
       "      <td>SUNTECK</td>\n",
       "      <td>83.681143</td>\n",
       "    </tr>\n",
       "    <tr>\n",
       "      <th>5</th>\n",
       "      <td>PHOENIXLTD</td>\n",
       "      <td>09-Nov-2021</td>\n",
       "      <td>1089.50</td>\n",
       "      <td>10-Nov-2020</td>\n",
       "      <td>603.35</td>\n",
       "      <td>PHOENIXLTD</td>\n",
       "      <td>80.575122</td>\n",
       "    </tr>\n",
       "  </tbody>\n",
       "</table>\n",
       "</div>"
      ],
      "text/plain": [
       "       SYMBOL       DATE1_x  CLOSE_PRICE_x       DATE1_y  CLOSE_PRICE_y  \\\n",
       "3   IBREALEST   09-Nov-2021         191.05   10-Nov-2020          48.35   \n",
       "7       SOBHA   09-Nov-2021         907.05   10-Nov-2020         293.05   \n",
       "2  GODREJPROP   09-Nov-2021        2420.95   10-Nov-2020         957.30   \n",
       "0     BRIGADE   09-Nov-2021         494.10   10-Nov-2020         202.15   \n",
       "1         DLF   09-Nov-2021         437.40   10-Nov-2020         180.50   \n",
       "4  OBEROIRLTY   09-Nov-2021        1014.05   10-Nov-2020         433.60   \n",
       "6    PRESTIGE   09-Nov-2021         514.85   10-Nov-2020         257.00   \n",
       "8     SUNTECK   09-Nov-2021         488.50   10-Nov-2020         265.95   \n",
       "5  PHOENIXLTD   09-Nov-2021        1089.50   10-Nov-2020         603.35   \n",
       "\n",
       "       Symbol     %Change  \n",
       "3   IBREALEST  295.139607  \n",
       "7       SOBHA  209.520560  \n",
       "2  GODREJPROP  152.893555  \n",
       "0     BRIGADE  144.422459  \n",
       "1         DLF  142.326870  \n",
       "4  OBEROIRLTY  133.867620  \n",
       "6    PRESTIGE  100.330739  \n",
       "8     SUNTECK   83.681143  \n",
       "5  PHOENIXLTD   80.575122  "
      ]
     },
     "execution_count": 38,
     "metadata": {},
     "output_type": "execute_result"
    }
   ],
   "source": [
    "sectorperf.sort_values(by='%Change', ascending=False)"
   ]
  },
  {
   "cell_type": "code",
   "execution_count": null,
   "metadata": {},
   "outputs": [],
   "source": []
  }
 ],
 "metadata": {
  "kernelspec": {
   "display_name": "Python 3",
   "language": "python",
   "name": "python3"
  },
  "language_info": {
   "codemirror_mode": {
    "name": "ipython",
    "version": 3
   },
   "file_extension": ".py",
   "mimetype": "text/x-python",
   "name": "python",
   "nbconvert_exporter": "python",
   "pygments_lexer": "ipython3",
   "version": "3.8.3"
  }
 },
 "nbformat": 4,
 "nbformat_minor": 4
}
